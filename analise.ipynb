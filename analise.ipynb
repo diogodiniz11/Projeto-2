{
 "cells": [
  {
   "cell_type": "markdown",
   "metadata": {},
   "source": [
    "GRUPO 2 - PROJETO 2\n",
    "\n",
    "Diogo Diniz ,\n",
    "Augusto Ferreira ,\n",
    "Patrick Arashiro e\n",
    "João Andrade"
   ]
  },
  {
   "cell_type": "code",
   "execution_count": null,
   "metadata": {},
   "outputs": [],
   "source": [
    "%matplotlib inline\n",
    "import pandas as pd\n",
    "import matplotlib.pyplot as plt\n",
    "import numpy as np\n",
    "import os"
   ]
  }
 ],
 "metadata": {
  "language_info": {
   "name": "python"
  }
 },
 "nbformat": 4,
 "nbformat_minor": 2
}
